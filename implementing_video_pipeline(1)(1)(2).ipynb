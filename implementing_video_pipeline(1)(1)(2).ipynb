{
  "nbformat": 4,
  "nbformat_minor": 0,
  "metadata": {
    "colab": {
      "name": "implementing_video_pipeline(1).ipynb",
      "provenance": [],
      "collapsed_sections": []
    },
    "kernelspec": {
      "display_name": "Python 3",
      "name": "python3"
    },
    "language_info": {
      "name": "python"
    }
  },
  "cells": [
    {
      "cell_type": "markdown",
      "metadata": {
        "id": "Jd9p_B-jLKoN"
      },
      "source": [
        "\n",
        "\\\\\n",
        "$\\large \\textbf{Vehicle identification and prediction for self driving cars}$\n",
        "\n",
        "\\\\\n",
        "$\\textbf{Under the guidance of  prof. Amit Sethi}$\n"
      ]
    },
    {
      "cell_type": "code",
      "metadata": {
        "id": "4yV0aEDeN-3z"
      },
      "source": [
        "#necessary packages\n",
        "import glob #to access files\n",
        "import cv2 as cv2 #OpenCV for image processing\n",
        "import numpy as np #vector array operations\n",
        "import matplotlib.pyplot as plt #plots\n",
        "import random #random number generator\n",
        "from skimage.feature import hog #for Histogram of Gradient analysis\n",
        "from zipfile import ZipFile as zip #Unzipping files as dataset is in zip file type"
      ],
      "execution_count": null,
      "outputs": []
    },
    {
      "cell_type": "markdown",
      "metadata": {
        "id": "NsZW3tOgMahL"
      },
      "source": [
        "#Importing Datasets :\n",
        "$\\text{The dataset provided for the project is a combination of datasets from various sources.These sources are GTI vehicle image database (GTI),KITTI vision benchmark suite}$$\\text{and extra images extracted from Udacity's project video.The sets of GTI Far, GTI left,GTI Right and GTI MiddleClose are from the same source of GTI with different}$$\\text{viewpoints.Together with the KITTI examples they constitute the whole set of vehicle images.The images from udacity's project video are used as test images along with }$ $\\text{some random images from net.}$\n",
        "\n",
        "$\\text{The datasets are open-sourced and open to use for analysis for all.}$\n",
        "\n",
        "\\\\\n",
        "$\\text{Dataset credits :} $\n",
        "1. $\\text{GTI vehicle image database : }$ [http://www.gti.ssr.upm.es/data/Vehicle_database.html](https://) \n",
        "\n",
        "2. $\\text{KUTTI vision bechmark suite : }$KUTTI :[http://www.cvlibs.net/datasets/kitti/](https://)\n",
        "\n",
        "\\\\\n",
        "$\\text{direct link to access\\download dataset , we have uploaded the data on G-drive for better access .: }$\n",
        "\n",
        "1. $\\text{car data :}$ https://s3.amazonaws.com/udacity-sdc/Vehicle_Tracking/vehicles.zip\n",
        "2. $\\text{non-car data :}$ https://s3.amazonaws.com/udacity-sdc/Vehicle_Tracking/non-vehicles.zip"
      ]
    },
    {
      "cell_type": "code",
      "metadata": {
        "colab": {
          "base_uri": "https://localhost:8080/"
        },
        "id": "CkXW5SAYrGSy",
        "outputId": "eea9a305-aaee-4de1-c201-178f3badd7a4"
      },
      "source": [
        "from google.colab import drive\n",
        "drive.mount('/content/drive')"
      ],
      "execution_count": null,
      "outputs": [
        {
          "output_type": "stream",
          "text": [
            "Drive already mounted at /content/drive; to attempt to forcibly remount, call drive.mount(\"/content/drive\", force_remount=True).\n"
          ],
          "name": "stdout"
        }
      ]
    },
    {
      "cell_type": "code",
      "metadata": {
        "colab": {
          "base_uri": "https://localhost:8080/"
        },
        "id": "MlkkPPI9OHzP",
        "outputId": "e6dc135e-7917-4e20-8769-e8d3e9219c69"
      },
      "source": [
        "from google.colab import drive\n",
        "\n",
        "#Extracting zip files datasets \n",
        "car_data = zip('/content/drive/MyDrive/vehicles.zip' , 'r').extractall()\n",
        "print(\"Succcesssfuly unzipped data from car_data\" )\n",
        "non_car_data = zip('/content/drive/MyDrive/non-vehicles.zip' , 'r').extractall()\n",
        "print(\"Succcesssfuly unzipped data from non_car_data\")\n",
        "\n",
        "#Accessing content of datasets\n",
        "vehicle_image = glob.glob('/content/vehicles/**/*.png', recursive=True) #obtain only image files\n",
        "print(\"Successfully retrieved vehicle image data ! \\nData details : Found {total} images\".format(total = len(vehicle_image)))\n",
        "non_vehicle_image = glob.glob('/content/non-vehicles/**/*.png', recursive=True) #obtain only image files\n",
        "print(\"Successfully retrieved vehicle image data ! \\nData details : Found {total} images\".format(total = len(non_vehicle_image)))"
      ],
      "execution_count": null,
      "outputs": [
        {
          "output_type": "stream",
          "text": [
            "Succcesssfuly unzipped data from car_data\n",
            "Succcesssfuly unzipped data from non_car_data\n",
            "Successfully retrieved vehicle image data ! \n",
            "Data details : Found 8792 images\n",
            "Successfully retrieved vehicle image data ! \n",
            "Data details : Found 8968 images\n"
          ],
          "name": "stdout"
        }
      ]
    },
    {
      "cell_type": "markdown",
      "metadata": {
        "id": "b3L1qzs-MwM9"
      },
      "source": [
        "$\\text{Reference for zipfile module :}$ [https://docs.python.org/3/library/zipfile.html](https://) \\\\\n",
        "$\\text{Reference for glob module :}$ [https://docs.python.org/3/library/glob.html](https://)"
      ]
    },
    {
      "cell_type": "markdown",
      "metadata": {
        "id": "RI_e7GVJWryo"
      },
      "source": [
        "#Reading dataset and visualizing data"
      ]
    },
    {
      "cell_type": "code",
      "metadata": {
        "colab": {
          "base_uri": "https://localhost:8080/",
          "height": 216
        },
        "id": "2np9Of0QPutP",
        "outputId": "1d86dfd8-544c-446c-8cf4-133e13974a44"
      },
      "source": [
        "#reading image data\n",
        "vehicle_image = [] #store individual images of vehicles only\n",
        "path = glob.glob('/content/vehicles/**/*.png', recursive=True)\n",
        "for imgpath in path:\n",
        "  car = cv2.imread(imgpath) #read files from path\n",
        "  pic = cv2.cvtColor(car , cv2.COLOR_BGR2RGB) #convert to RGB #for visualizing only\n",
        "  #plt.show()\n",
        "  vehicle_image.append(pic) #append in list\n",
        "\n",
        "\n",
        "non_vehicle_image = []\n",
        "path1 = glob.glob('/content/non-vehicles/**/*.png', recursive=True)\n",
        "for imgpath in path1 :\n",
        "  car1 = cv2.imread(imgpath)\n",
        "  pic = cv2.cvtColor(car1 , cv2.COLOR_BGR2RGB)\n",
        "  non_vehicle_image.append(pic)\n",
        "\n",
        "#loading last two images in datasets\n",
        "fig , (ax1 , ax2)  = plt.subplots(1,2)\n",
        "ax1.imshow(car)\n",
        "ax1.set_title(\"Vehicle image\")\n",
        "ax2.imshow(car1)\n",
        "ax2.set_title(\"Non-vehicle image\")\n",
        "plt.show()"
      ],
      "execution_count": null,
      "outputs": [
        {
          "output_type": "display_data",
          "data": {
            "image/png": "[encoded data removed]",
            "text/plain": [
              "<Figure size 432x288 with 2 Axes>"
            ]
          },
          "metadata": {
            "tags": [],
            "needs_background": "light"
          }
        }
      ]
    },
    {
      "cell_type": "markdown",
      "metadata": {
        "id": "O-8OkE6LiSSI"
      },
      "source": [
        "$\\text{Indicates pixel size of image as  64$\\times$64 , and 3 channels / colors. }$"
      ]
    },
    {
      "cell_type": "markdown",
      "metadata": {
        "id": "0OuvnskTqdi1"
      },
      "source": [
        "$\\text{Reference for Hog and how to use it :}$ \\\\\n",
        "\n",
        "[https://lilianweng.github.io/lil-log/2017/10/29/object-recognition-for-dummies-part-1.html](https://)\n",
        "\n",
        "[https://scikit-image.org/docs/dev/auto_examples/features_detection/plot_hog.html](https://)\n",
        "\n"
      ]
    },
    {
      "cell_type": "code",
      "metadata": {
        "id": "JVV2bkXsRmPR"
      },
      "source": [
        "#Using hog module to get hog features\n",
        "def Generate_hog_features(image, orientation ,cellsPerBlock,pixelsPerCell, visualize=True ) :\n",
        "  #Forcing only certain input datatypes to be accepted\n",
        "\n",
        "  assert type(orientation) and type(cellsPerBlock) and type(pixelsPerCell) is int\n",
        "  assert type(visualize) is bool\n",
        "\n",
        "  if (visualize==True) :\n",
        "    hog_features, hog_image = hog(image , orientations = orientation, pixels_per_cell=(pixelsPerCell, pixelsPerCell),  cells_per_block=(cellsPerBlock, cellsPerBlock), visualize=True )\n",
        "    return hog_features, hog_image\n",
        "  \n",
        "  else:\n",
        "    hog_features = hog(image, orientations=orientation ,pixels_per_cell=(pixelsPerCell, pixelsPerCell), cells_per_block=(cellsPerBlock, cellsPerBlock), visualize=False )\n",
        "    return hog_features"
      ],
      "execution_count": null,
      "outputs": []
    },
    {
      "cell_type": "markdown",
      "metadata": {
        "id": "mVArt46qwyST"
      },
      "source": [
        "$\\text{Color spaces plays a vital role in hog analysis , to check this effect ,the above hog features can be redrawn from optimum color space obtained.}$"
      ]
    },
    {
      "cell_type": "markdown",
      "metadata": {
        "id": "THibBPDH03-L"
      },
      "source": [
        "$\\text{Hog features of non-vehicle image are very distinctive in earlier color space but now it is some what became blurred.}$\n",
        "$\\text{Hence by choosing appropriate color space we can improve the quality of features.}$"
      ]
    },
    {
      "cell_type": "code",
      "metadata": {
        "id": "BnKPnZVJTeD7"
      },
      "source": [
        "#extract hog features for all images \n",
        "def ExtractFeatures(images,orientation,cellsPerBlock,pixelsPerCell):\n",
        "  featureList = [] #store features\n",
        "  for image in images:\n",
        "    image= cv2.cvtColor(image, cv2.COLOR_RGB2YUV) #as this color specification gave highest accuracy during feature selection\n",
        "    features_of_channel1 = Generate_hog_features(image[:,:,0],orientation,cellsPerBlock,pixelsPerCell, False) #as hog can generate feature per column of image color. for more see :https://scikit-image.org/docs/dev/auto_examples/features_detection/plot_hog.html\n",
        "    features_of_channel2 = Generate_hog_features(image[:,:,1],orientation,cellsPerBlock,pixelsPerCell, False)\n",
        "    features_of_channel3 = Generate_hog_features(image[:,:,2],orientation,cellsPerBlock,pixelsPerCell, False)\n",
        "    feature = np.hstack((features_of_channel1 , features_of_channel2 ,features_of_channel3)) #as fetaures should appear column wise for an image stacking horizontally\n",
        "    #print(feature.shape)\n",
        "    featureList.append(feature) #generating features as an array list\n",
        "  \n",
        "  return featureList"
      ],
      "execution_count": null,
      "outputs": []
    },
    {
      "cell_type": "markdown",
      "metadata": {
        "id": "QYyssm08-sGr"
      },
      "source": [
        "$\\text{Extracting hog features for image dataset at values which we obtained from feature selection step.}$"
      ]
    },
    {
      "cell_type": "code",
      "metadata": {
        "id": "FZanfU6xTg80"
      },
      "source": [
        "orientations = 9\n",
        "cellsPerBlock = 2\n",
        "pixelsPerBlock = 8\n",
        "vehicleFeatures = ExtractFeatures(vehicle_image,orientations,cellsPerBlock,pixelsPerBlock)\n",
        "nonVehicleFeatures = ExtractFeatures(non_vehicle_image,orientations,cellsPerBlock,pixelsPerBlock)"
      ],
      "execution_count": null,
      "outputs": []
    },
    {
      "cell_type": "markdown",
      "metadata": {
        "id": "3PjuyQQL_C3r"
      },
      "source": [
        "$\\text{As over dataset had separate vehicle and non-vehicle dataset , we can assign them labels.As only 2 classes are their we will assign binary values to label.}$"
      ]
    },
    {
      "cell_type": "code",
      "metadata": {
        "colab": {
          "base_uri": "https://localhost:8080/"
        },
        "id": "8i1di9_gTpG2",
        "outputId": "f9b8547f-89bd-4b77-dc06-4b3197fb32fa"
      },
      "source": [
        "#feature list will be list of all fetures stacked vertically\n",
        "features = np.vstack([vehicleFeatures, nonVehicleFeatures])\n",
        "print(\"Shape of features list is \", features.shape)\n",
        "\n",
        "#label will be 1 for vehicle detected and 0 for non vehicle detected\n",
        "assigned_labels= np.concatenate([np.ones(len(vehicleFeatures)), np.zeros(len(nonVehicleFeatures))])\n",
        "print(\"Shape of label list is \", assigned_labels.shape)"
      ],
      "execution_count": null,
      "outputs": [
        {
          "output_type": "stream",
          "text": [
            "Shape of features list is  (17760, 5292)\n",
            "Shape of label list is  (17760,)\n"
          ],
          "name": "stdout"
        }
      ]
    },
    {
      "cell_type": "markdown",
      "metadata": {
        "id": "bnz0quty7ULQ"
      },
      "source": [
        "$\\text{As we have a total of 17760 images , the rows generated are 17760 and for each image 5291 hog features are extracted by using Extractfeature function.}$ \\\\\n",
        "$\\text{For 17760 images we have labelled each vehicle image as 1 and non_vehicle image as 0.}$ \\\\\n",
        "$\\text{In this way our final data is ready for classification.}$"
      ]
    },
    {
      "cell_type": "markdown",
      "metadata": {
        "id": "yg9dlgTwD-Yp"
      },
      "source": [
        "#Train-Test Split\n",
        "\n",
        "$\\text{We will be using 67% data as training data and rest is validation data.Also shuffling is done to avoid overfitting the data.}$"
      ]
    },
    {
      "cell_type": "code",
      "metadata": {
        "id": "E4QYBMq5T9cy"
      },
      "source": [
        "X_train = features\n",
        "Y_train = assigned_labels"
      ],
      "execution_count": null,
      "outputs": []
    },
    {
      "cell_type": "code",
      "metadata": {
        "id": "qW_aY7H3FETJ"
      },
      "source": [
        "from sklearn.svm import SVC"
      ],
      "execution_count": null,
      "outputs": []
    },
    {
      "cell_type": "code",
      "metadata": {
        "id": "nAsGcYPb7rwP",
        "colab": {
          "base_uri": "https://localhost:8080/"
        },
        "outputId": "fa19c504-ebd3-45cb-8f07-bba6ba6bc18c"
      },
      "source": [
        "import timeit\n",
        "start = timeit.default_timer()\n",
        "classifier1 = SVC(C = 10 , kernel = 'rbf')\n",
        "classifier1.fit(X_train,Y_train) \n",
        "end = timeit.default_timer()\n",
        "print(end - start)"
      ],
      "execution_count": null,
      "outputs": [
        {
          "output_type": "stream",
          "text": [
            "323.1564168389996\n"
          ],
          "name": "stdout"
        }
      ]
    },
    {
      "cell_type": "markdown",
      "metadata": {
        "id": "A_q-OyvHAseU"
      },
      "source": [
        "$\\text{For our selected classifier framework of Support vector classifier with Hyperparameter as C=10 and kernel = rbf }$$\\text{, we can see from confusion matrix that the true positive and true negative are way more than false positive or false negative ,}$ $\\text{ Hence we can use this model framework for our test data prediction with some modifications to remove false positive.}$"
      ]
    },
    {
      "cell_type": "markdown",
      "metadata": {
        "id": "BU38WP55_9ru"
      },
      "source": [
        "#Sliding windows approach for prediction in a image"
      ]
    },
    {
      "cell_type": "markdown",
      "metadata": {
        "id": "ho3SdI7E-O0s"
      },
      "source": [
        "$\\text{ X-axis is from 0 to 1280 and Y-axis is from 0 to 720 , we can select a window size which can cover the entire image area say (64,64) as it can divide 1280 and 720 both.}$"
      ]
    },
    {
      "cell_type": "markdown",
      "metadata": {
        "id": "SpO85BmKdYN3"
      },
      "source": [
        "$\\text{In below function we generate windows of different size which covers the entire image space.}$"
      ]
    },
    {
      "cell_type": "code",
      "metadata": {
        "id": "NQSDRzAfUGDO"
      },
      "source": [
        "# function to draw sliding Windows\n",
        "def Generate_windows(image, windows) :\n",
        "  new_image = np.copy(image) #copy of image to produce desired boxes on it without affecting original image\n",
        "  thick = np.random.randint(low = 3 , high = 6) #thickness of box drawn\n",
        "\n",
        "  for window in windows :\n",
        "\n",
        "    color = (np.random.randint(low = 0 , high = 255) , 0 , 0 ) #RGB color values #only R taken i.e. red windows generated\n",
        "    #print(color)\n",
        "  \n",
        "    cv2.rectangle(new_image, window[0], window[1], color, thick) #    # Draw a rectangle given coordinates\n",
        "    \n",
        "    #image copy with boxes drawn\n",
        "  return new_image"
      ],
      "execution_count": null,
      "outputs": []
    },
    {
      "cell_type": "code",
      "metadata": {
        "id": "fp1qyxufUKru"
      },
      "source": [
        "# function to find the windows on which we are going to run the classifier\n",
        "def sliding_window(img, x_axis=[0 , 1280], y_axis=[0 , 720], window_shape = (16, 16), xy_overlap = (0.8, 0.8)) :\n",
        "\n",
        "  assert x_axis[0] != None and x_axis[1] != None \n",
        "  assert y_axis[0] != None and y_axis[1] != None \n",
        "\n",
        "  window_list = [] #small windowss generated which covers entire image with window size = window_shape and overlapping allowed is  = 20 %\n",
        "\n",
        "  x = x_axis[1] - x_axis[0]\n",
        "  y = y_axis[1] - y_axis[0]\n",
        "     \n",
        "  windows_x = np.int( 1 + (x - window_shape[0])/(window_shape[0] * xy_overlap[0]))\n",
        "  windows_y = np.int( 1 + (y - window_shape[1])/(window_shape[1] * xy_overlap[1]))\n",
        "\n",
        "  for i in range(0,windows_y) :\n",
        "    y_start = y_axis[0] + np.int( i * window_shape[1] * xy_overlap[1])\n",
        "    \n",
        "    for j in range(0,windows_x) :\n",
        "\n",
        "      x_start = x_axis[0] + np.int( j * window_shape[0] * xy_overlap[0])\n",
        "      x1 = np.int( x_start +  window_shape[0])\n",
        "      y1 = np.int( y_start + window_shape[1])\n",
        "      window_list.append(((x_start,y_start),(x1,y1)))\n",
        "\n",
        "  return window_list"
      ],
      "execution_count": null,
      "outputs": []
    },
    {
      "cell_type": "markdown",
      "metadata": {
        "id": "jK-dnjhZRFBr"
      },
      "source": [
        "$\\text{Randomly sliding over image didn't work out too well then refered to below repository and modified their idea to suit our needs of sliding window.}$\n",
        "$\\text{Formula of sliding window credit :}$ [https://github.com/harveenchadha/Udacity-CarND-Vehicle-Detection-and-Tracking](https://) \n",
        "\n",
        "\\\\\n",
        "$\\text{modification done: fixed the size of x axis , where to start and stop as dimension obtained previously and updated the same for Y axis.}$"
      ]
    },
    {
      "cell_type": "markdown",
      "metadata": {
        "id": "c3iaCp3PUPGl"
      },
      "source": [
        "$\\text{function to identify car in window , returned 1 if car detected by classifier.}$"
      ]
    },
    {
      "cell_type": "code",
      "metadata": {
        "id": "dOR3EsvzUNEO"
      },
      "source": [
        "def Highlight_Car(image,windows) :\n",
        "\n",
        "  car_in_window = [] #store window dimension if car detected\n",
        "\n",
        "  for window in windows :\n",
        "\n",
        "    start = window[0]\n",
        "    end = window[1]\n",
        "\n",
        "    new_img = image[start[1]:end[1], start[0]:end[0]] #only checking one window at a time\n",
        "\n",
        "    if (new_img.shape[1] == new_img.shape[0] and new_img.shape[1] != 0) : #as we are clipping only some part chances are we wouldn't get the needed square bracket #hence enforcing square brackets and rejecting empty end to the image\n",
        "\n",
        "      new_img = cv2.resize(new_img, (64,64))  # resizing can reduce features of image\n",
        "      features = ExtractFeatures([new_img], 9 , 2 , 8)\n",
        "      predict = classifier1.predict([features[0]])\n",
        "        \n",
        "      if (predict == 1) :\n",
        "        car_in_window.append(window)\n",
        "          \n",
        "  return car_in_window"
      ],
      "execution_count": null,
      "outputs": []
    },
    {
      "cell_type": "code",
      "metadata": {
        "id": "7ITMrUnCUtF_"
      },
      "source": [
        "# function to increase the pixel by one inside each box if heat(car) detected\n",
        "# applied only on windows with prediction = 1\n",
        "def add_heat(heatmap, window_list):\n",
        "  for window in window_list:\n",
        "    # Add += 1 for all pixels inside each window where car detected\n",
        "    heatmap[window[0][1]:window[1][1], window[0][0]:window[1][0]] += 1\n",
        "    # Return updated heatmap\n",
        "  return heatmap\n",
        "#applying threshold to reduce false positives\n",
        "def eliminate_false_positive(heatmap, threshold):\n",
        "  heatmap[heatmap <= threshold] = 0 #make samples detected zero in heatmap if value is less than threshold\n",
        "  return heatmap #return only heatmaps with more than threshold values"
      ],
      "execution_count": null,
      "outputs": []
    },
    {
      "cell_type": "code",
      "metadata": {
        "id": "CwEJHU95Uzku"
      },
      "source": [
        "#Drawing windows with only detected car windows and having pixels more than threshold .\n",
        "def label_car_window(img, labels):\n",
        "  # Iterate through all detected cars\n",
        "  for car_number in range(1, labels[1]+1):\n",
        "    # Find pixels with each car_number label value\n",
        "    nonzero = (labels[0] == car_number).nonzero() #returns indices of element when condition is met #doc : https://numpy.org/doc/stable/reference/generated/numpy.nonzero.html\n",
        "    # Identify x and y values of those pixels\n",
        "    nonzeroy = np.array(nonzero[0])\n",
        "    nonzerox = np.array(nonzero[1])\n",
        "    #Define a bounding box using min and max values\n",
        "    window = ((np.min(nonzerox), np.min(nonzeroy)), (np.max(nonzerox), np.max(nonzeroy)))\n",
        "    # Draw the box on the image\n",
        "    cv2.rectangle(img, window[0], window[1], (0,250,0), 5) #green colored just for fun\n",
        "    # Return the image\n",
        "  return img"
      ],
      "execution_count": null,
      "outputs": []
    },
    {
      "cell_type": "code",
      "metadata": {
        "id": "1KT2Anj2hQM2"
      },
      "source": [
        "from scipy.ndimage import label"
      ],
      "execution_count": null,
      "outputs": []
    },
    {
      "cell_type": "code",
      "metadata": {
        "id": "fkhyc9emiNlD"
      },
      "source": [
        "import matplotlib.image as mpimg"
      ],
      "execution_count": null,
      "outputs": []
    },
    {
      "cell_type": "code",
      "metadata": {
        "id": "k9pXRXE5iKSE"
      },
      "source": [
        "image = mpimg.imread('/content/drive/MyDrive/test_new_1.jpg')"
      ],
      "execution_count": null,
      "outputs": []
    },
    {
      "cell_type": "code",
      "metadata": {
        "id": "qo5SxkFQgaRC"
      },
      "source": [
        "#defining the Parameters required for the pipeline to run from feature selection\n",
        "orientation=9 # No of orientations of HOG\n",
        "cellsPerBlock=2 # No of cells per block\n",
        "pixelsPerCell=8 # No of pixels per cell\n",
        "windows = []\n",
        "for i in range(1,3,1) :\n",
        "  windows += sliding_window(image, x_axis=[0, 1280], y_axis=[400,720],window_shape=(round(200/i),round(200/i)), xy_overlap=(0.20/i, 0.20/i))"
      ],
      "execution_count": null,
      "outputs": []
    },
    {
      "cell_type": "markdown",
      "metadata": {
        "id": "mSiGzubQeAwQ"
      },
      "source": [
        "## video"
      ]
    },
    {
      "cell_type": "code",
      "metadata": {
        "id": "9LrO8eyicYhZ"
      },
      "source": [
        "# Defining a class to store the refined frames found from the last 15 frames\n",
        "class KeepTrack():\n",
        "  def __init__(self):\n",
        "    self.refinedWindows = [] \n",
        "        \n",
        "  def AddWindows(self, refinedWindow):\n",
        "    self.refinedWindows.append(refinedWindow)\n",
        "    frameHistory=20\n",
        "    if len(self.refinedWindows) > frameHistory:\n",
        "      self.refinedWindows = self.refinedWindows[len(self.refinedWindows)-frameHistory:]"
      ],
      "execution_count": null,
      "outputs": []
    },
    {
      "cell_type": "code",
      "metadata": {
        "id": "lDUGrJEGcsb7"
      },
      "source": [
        "# Defining a pipeline for Video Frame Processing\n",
        "# Note here the track of last 15 frames is kept\n",
        "def video_pipeline(image):\n",
        "  rand= random.randint(0,1)\n",
        "  if (rand<0.4):\n",
        "    refinedWindows=keepTrack.refinedWindows[:-1]\n",
        "  else:\n",
        "    refinedWindows=Highlight_Car(image,windows)\n",
        "    if len(refinedWindows) > 0:\n",
        "      keepTrack.AddWindows(refinedWindows)\n",
        "            \n",
        "  heat = np.zeros_like(image[:,:,0]).astype(np.float)\n",
        "    \n",
        "  for refinedWindow in keepTrack.refinedWindows:\n",
        "    heat = add_heat(heat, refinedWindow)\n",
        "  heatmap = eliminate_false_positive(heat, 25 + len(keepTrack.refinedWindows)//2)\n",
        "  labels = label(heatmap)\n",
        "  draw_img = label_car_window(np.copy(image), labels)\n",
        "  return draw_img"
      ],
      "execution_count": null,
      "outputs": []
    },
    {
      "cell_type": "code",
      "metadata": {
        "id": "63ORzwxYVvCu",
        "colab": {
          "base_uri": "https://localhost:8080/"
        },
        "outputId": "8602be74-a22c-4624-9d05-e10daaf658f1"
      },
      "source": [
        "keepTrack = KeepTrack()\n",
        "import moviepy\n",
        "from moviepy.editor import VideoFileClip\n",
        "video_output1 = 'out_vid2.mp4'\n",
        "video_input1 = VideoFileClip('/content/drive/MyDrive/test_video(1).mp4')\n",
        "processed_video = video_input1.fl_image(video_pipeline)\n",
        "%time \n",
        "processed_video.write_videofile(video_output1, audio=False)\n"
      ],
      "execution_count": null,
      "outputs": [
        {
          "output_type": "stream",
          "text": [
            "CPU times: user 3 µs, sys: 0 ns, total: 3 µs\n",
            "Wall time: 6.44 µs\n",
            "[MoviePy] >>>> Building video out_vid2.mp4\n",
            "[MoviePy] Writing video out_vid2.mp4\n"
          ],
          "name": "stdout"
        },
        {
          "output_type": "stream",
          "text": [
            " 97%|█████████▋| 38/39 [19:44<00:31, 31.18s/it]\n"
          ],
          "name": "stderr"
        },
        {
          "output_type": "stream",
          "text": [
            "[MoviePy] Done.\n",
            "[MoviePy] >>>> Video ready: out_vid2.mp4 \n",
            "\n"
          ],
          "name": "stdout"
        }
      ]
    },
    {
      "cell_type": "code",
      "metadata": {
        "id": "RQ_qW9q5ky0t"
      },
      "source": [
        "video_input1.reader.close()\n",
        "video_input1.audio.reader.close_proc()"
      ],
      "execution_count": null,
      "outputs": []
    },
    {
      "cell_type": "markdown",
      "metadata": {
        "id": "rHnNRUbop2UV"
      },
      "source": [
        "Video pipeline credit:  [https://github.com/harveenchadha/Udacity-CarND-Vehicle-Detection-and-Tracking]"
      ]
    },
    {
      "cell_type": "code",
      "metadata": {
        "id": "qR-cKZKukzne"
      },
      "source": [
        ""
      ],
      "execution_count": null,
      "outputs": []
    }
  ]
}
